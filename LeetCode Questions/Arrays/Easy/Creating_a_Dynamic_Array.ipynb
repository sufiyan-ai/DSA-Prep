{
  "nbformat": 4,
  "nbformat_minor": 0,
  "metadata": {
    "colab": {
      "provenance": []
    },
    "kernelspec": {
      "name": "python3",
      "display_name": "Python 3"
    },
    "language_info": {
      "name": "python"
    }
  },
  "cells": [
    {
      "cell_type": "code",
      "execution_count": 30,
      "metadata": {
        "id": "zVpEDk3CDLXF"
      },
      "outputs": [],
      "source": [
        "import ctypes"
      ]
    },
    {
      "cell_type": "code",
      "source": [
        "class MeraList:\n",
        "  def __init__(self):\n",
        "    self.size=1\n",
        "    self.n=0\n",
        "    self.a=self.__make_array(self.size)\n",
        "\n",
        "  def __make_array(self,capacity):\n",
        "      return (capacity*ctypes.py_object)()\n",
        "\n",
        "  def __len__(self):\n",
        "      return self.n\n",
        "\n",
        "  def __str__(self):\n",
        "    result=''\n",
        "    for i in range(self.n):\n",
        "      result=result+str(self.a[i])+','\n",
        "    return '['+result[:-1]+']'\n",
        "\n",
        "  def __getitem__(self,index):\n",
        "    if 0<=index <self.n:\n",
        "      return self.a[index]\n",
        "    else:\n",
        "      return 'IndexError - index out of range'\n",
        "\n",
        "  def append(self,item):\n",
        "      if self.n==self.size:\n",
        "        self.resize(self.size*2)\n",
        "\n",
        "      #\n",
        "      self.a[self.n]=item\n",
        "      self.n=self.n+1\n",
        "\n",
        "  def pop(self):\n",
        "    if self.n==0:\n",
        "      return 'Empty List'\n",
        "    print(self.a[self.n-1])\n",
        "    self.n=self.n-1\n",
        "\n",
        "  def clear(self):\n",
        "    self.n=0\n",
        "    self.size=1\n",
        "\n",
        "  def index(self,value):\n",
        "    for i in range(self.n):\n",
        "      if value==self.a[i]:\n",
        "        return i\n",
        "\n",
        "    else:\n",
        "      return 'ValuError - Item not present in list'\n",
        "\n",
        "  def insert(self,pos,value):\n",
        "    if self.size==self.n:\n",
        "      self.resize(self.size*2)\n",
        "\n",
        "    for i in range(self.n,pos,-1):\n",
        "      self.a[i]=self.a[i-1]\n",
        "    self.a[pos]=value\n",
        "    self.n=self.n+1\n",
        "\n",
        "  def __delitem__(self,pos):\n",
        "    if 0<= pos < self.n:\n",
        "\n",
        "      if self.size==self.n:\n",
        "        self.resize(self.size*2)\n",
        "\n",
        "      for i in range(pos,self.n-1):\n",
        "        self.a[i]=self.a[i+1]\n",
        "\n",
        "      self.n=self.n-1\n",
        "\n",
        "    else:\n",
        "      return 'IndexError'\n",
        "\n",
        "  def remove(self,value):\n",
        "    pos=self.index(value)\n",
        "    if type(pos)==int:\n",
        "      self.__delitem__(pos)\n",
        "    else:\n",
        "      return pos\n",
        "\n",
        "  def sort(self):\n",
        "    if self.size==self.n:\n",
        "        self.resize(self.size*2)\n",
        "\n",
        "    for i in range(self.n):\n",
        "      swapped=False\n",
        "      for j in range(0,self.n-i-1):\n",
        "        if self.a[j]>self.a[j+1]:\n",
        "          self.a[j], self.a[j + 1] = self.a[j + 1], self.a[j]\n",
        "          swapped=True\n",
        "      if swapped==False:\n",
        "        break\n",
        "\n",
        "\n",
        "\n",
        "  def min(self):\n",
        "    min=self.a[0]\n",
        "    for i in range(1,self.n):\n",
        "          if min>self.a[i]:\n",
        "            min=self.a[i]\n",
        "    return min\n",
        "\n",
        "\n",
        "  def max(self):\n",
        "    max=self.a[0]\n",
        "\n",
        "    for i in range(1,self.n):\n",
        "      if max<self.a[i]:\n",
        "        max=self.a[i]\n",
        "    return max\n",
        "\n",
        "\n",
        "\n",
        "\n",
        "\n",
        "\n",
        "\n",
        "\n",
        "  def resize(self,capacity):\n",
        "    self.b=self.__make_array(capacity)\n",
        "    self.size=capacity\n",
        "    for i in range(self.n):\n",
        "      self.b[i]=self.a[i]\n",
        "    self.a=self.b"
      ],
      "metadata": {
        "id": "ms0E_-RuDRAS"
      },
      "execution_count": 138,
      "outputs": []
    },
    {
      "cell_type": "code",
      "source": [
        "l=MeraList()"
      ],
      "metadata": {
        "id": "XOLi4F-HD8ZU"
      },
      "execution_count": 139,
      "outputs": []
    },
    {
      "cell_type": "code",
      "source": [
        "l.append(4)\n",
        "l.append(44)\n",
        "l.append(5)\n",
        "l.append(1)\n",
        "l.append(50)\n",
        "l.append(71)\n",
        "l.append(15)\n",
        "l.append(177)"
      ],
      "metadata": {
        "id": "ZrJMQIDmEWQZ"
      },
      "execution_count": 140,
      "outputs": []
    },
    {
      "cell_type": "code",
      "source": [
        "print(l)"
      ],
      "metadata": {
        "colab": {
          "base_uri": "https://localhost:8080/"
        },
        "id": "GHJqh3-AFBTL",
        "outputId": "6ce9ebea-24b4-4bc1-c1b0-0c7ecb710103"
      },
      "execution_count": 141,
      "outputs": [
        {
          "output_type": "stream",
          "name": "stdout",
          "text": [
            "[4,44,5,1,50,71,15,177]\n"
          ]
        }
      ]
    },
    {
      "cell_type": "code",
      "source": [
        "len(l)"
      ],
      "metadata": {
        "colab": {
          "base_uri": "https://localhost:8080/"
        },
        "id": "kK11TyojPcME",
        "outputId": "c4240c22-0217-4da9-c206-03284948ee22"
      },
      "execution_count": 142,
      "outputs": [
        {
          "output_type": "execute_result",
          "data": {
            "text/plain": [
              "8"
            ]
          },
          "metadata": {},
          "execution_count": 142
        }
      ]
    },
    {
      "cell_type": "code",
      "source": [
        "l.index(5)"
      ],
      "metadata": {
        "colab": {
          "base_uri": "https://localhost:8080/"
        },
        "id": "i6pzrjBsPcSg",
        "outputId": "e8038658-6b6b-4621-9798-56038e2a79c7"
      },
      "execution_count": 143,
      "outputs": [
        {
          "output_type": "execute_result",
          "data": {
            "text/plain": [
              "2"
            ]
          },
          "metadata": {},
          "execution_count": 143
        }
      ]
    },
    {
      "cell_type": "code",
      "source": [
        "l.pop()"
      ],
      "metadata": {
        "colab": {
          "base_uri": "https://localhost:8080/"
        },
        "id": "HcHMXMoMPjfE",
        "outputId": "4c67f117-8a84-4d23-db88-2e36021e5627"
      },
      "execution_count": 144,
      "outputs": [
        {
          "output_type": "stream",
          "name": "stdout",
          "text": [
            "177\n"
          ]
        }
      ]
    },
    {
      "cell_type": "code",
      "source": [
        "l.clear()"
      ],
      "metadata": {
        "id": "gTxzrEyTPjh0"
      },
      "execution_count": 145,
      "outputs": []
    },
    {
      "cell_type": "code",
      "source": [
        "print(l)"
      ],
      "metadata": {
        "colab": {
          "base_uri": "https://localhost:8080/"
        },
        "id": "U9Jcd1QyQlAr",
        "outputId": "1bf04a78-185d-4f37-bc5f-9e0a47b6a8f6"
      },
      "execution_count": 146,
      "outputs": [
        {
          "output_type": "stream",
          "name": "stdout",
          "text": [
            "[]\n"
          ]
        }
      ]
    },
    {
      "cell_type": "code",
      "source": [
        "l.append(44)\n",
        "l.append(5)\n",
        "l.append(1)\n",
        "l.append(50)\n",
        "l.append(71)"
      ],
      "metadata": {
        "id": "VewSIgeKQndc"
      },
      "execution_count": 147,
      "outputs": []
    },
    {
      "cell_type": "code",
      "source": [
        "l.insert(5, 500)"
      ],
      "metadata": {
        "id": "fPn_UhWePjkj"
      },
      "execution_count": 148,
      "outputs": []
    },
    {
      "cell_type": "code",
      "source": [
        "del l[1]"
      ],
      "metadata": {
        "id": "Yn4ppxCAPjn_"
      },
      "execution_count": 149,
      "outputs": []
    },
    {
      "cell_type": "code",
      "source": [
        "l.remove(1)"
      ],
      "metadata": {
        "id": "1RbXswAAP6Xz"
      },
      "execution_count": 150,
      "outputs": []
    },
    {
      "cell_type": "code",
      "source": [
        "print(l)"
      ],
      "metadata": {
        "colab": {
          "base_uri": "https://localhost:8080/"
        },
        "id": "7Bdc7bv_Q4FB",
        "outputId": "ce9c7d77-2c81-4521-e178-b0265411fc39"
      },
      "execution_count": 151,
      "outputs": [
        {
          "output_type": "stream",
          "name": "stdout",
          "text": [
            "[44,50,71,500]\n"
          ]
        }
      ]
    },
    {
      "cell_type": "code",
      "source": [
        "l.sort()"
      ],
      "metadata": {
        "id": "IyNEvDtUP6bH"
      },
      "execution_count": 152,
      "outputs": []
    },
    {
      "cell_type": "code",
      "source": [
        "print(l)"
      ],
      "metadata": {
        "colab": {
          "base_uri": "https://localhost:8080/"
        },
        "id": "anq-TlMNQ5II",
        "outputId": "f087c4c9-0653-472a-efe3-3549b4260809"
      },
      "execution_count": 153,
      "outputs": [
        {
          "output_type": "stream",
          "name": "stdout",
          "text": [
            "[44,50,71,500]\n"
          ]
        }
      ]
    },
    {
      "cell_type": "code",
      "source": [
        "print(l)"
      ],
      "metadata": {
        "colab": {
          "base_uri": "https://localhost:8080/"
        },
        "id": "_P2_ZquDQft7",
        "outputId": "f39f4cbb-94f7-4a5f-8dff-ca3d29cffa2f"
      },
      "execution_count": 154,
      "outputs": [
        {
          "output_type": "stream",
          "name": "stdout",
          "text": [
            "[44,50,71,500]\n"
          ]
        }
      ]
    },
    {
      "cell_type": "code",
      "source": [
        "l.min()"
      ],
      "metadata": {
        "colab": {
          "base_uri": "https://localhost:8080/"
        },
        "id": "eVOl3NJKP9b3",
        "outputId": "c779082a-7f7f-4613-f9b6-4088dc4085fc"
      },
      "execution_count": 155,
      "outputs": [
        {
          "output_type": "execute_result",
          "data": {
            "text/plain": [
              "44"
            ]
          },
          "metadata": {},
          "execution_count": 155
        }
      ]
    },
    {
      "cell_type": "code",
      "source": [
        "l.max()"
      ],
      "metadata": {
        "colab": {
          "base_uri": "https://localhost:8080/"
        },
        "id": "HnQwRGrZPaOn",
        "outputId": "deedf1f2-e663-4d84-afdd-190d3112b3c0"
      },
      "execution_count": 156,
      "outputs": [
        {
          "output_type": "execute_result",
          "data": {
            "text/plain": [
              "500"
            ]
          },
          "metadata": {},
          "execution_count": 156
        }
      ]
    },
    {
      "cell_type": "code",
      "source": [
        "l.resize(50)"
      ],
      "metadata": {
        "id": "citp2DJ4QE18"
      },
      "execution_count": 157,
      "outputs": []
    },
    {
      "cell_type": "code",
      "source": [
        "l.size"
      ],
      "metadata": {
        "colab": {
          "base_uri": "https://localhost:8080/"
        },
        "id": "1o8_P3X8QFwK",
        "outputId": "eab7b79c-6d1b-419f-dbeb-cf59f9be91a2"
      },
      "execution_count": 158,
      "outputs": [
        {
          "output_type": "execute_result",
          "data": {
            "text/plain": [
              "50"
            ]
          },
          "metadata": {},
          "execution_count": 158
        }
      ]
    },
    {
      "cell_type": "code",
      "source": [],
      "metadata": {
        "id": "UBcTShO8QIfZ"
      },
      "execution_count": 158,
      "outputs": []
    }
  ]
}